{
 "cells": [
  {
   "cell_type": "code",
   "execution_count": 2,
   "id": "naval-highway",
   "metadata": {},
   "outputs": [
    {
     "name": "stdout",
     "output_type": "stream",
     "text": [
      "WARNING:tensorflow:From c:\\Users\\dell\\miniconda3\\Lib\\site-packages\\keras\\src\\losses.py:2976: The name tf.losses.sparse_softmax_cross_entropy is deprecated. Please use tf.compat.v1.losses.sparse_softmax_cross_entropy instead.\n",
      "\n"
     ]
    }
   ],
   "source": [
    "import tensorflow\n",
    "from keras.applications.resnet50 import ResNet50, preprocess_input\n",
    "from keras.layers import GlobalMaxPooling2D"
   ]
  },
  {
   "cell_type": "code",
   "execution_count": 8,
   "id": "outdoor-chrome",
   "metadata": {},
   "outputs": [],
   "source": [
    "model=ResNet50(weights='imagenet',include_top=False, input_shape=(224,224,3))\n",
    "model.trainable=False"
   ]
  },
  {
   "cell_type": "code",
   "execution_count": 9,
   "id": "extended-truck",
   "metadata": {},
   "outputs": [
    {
     "name": "stdout",
     "output_type": "stream",
     "text": [
      "Model: \"sequential_1\"\n",
      "_________________________________________________________________\n",
      "Layer (type)                 Output Shape              Param #   \n",
      "=================================================================\n",
      "resnet50 (Functional)        (None, 7, 7, 2048)        23587712  \n",
      "_________________________________________________________________\n",
      "global_max_pooling2d (Global (None, 2048)              0         \n",
      "=================================================================\n",
      "Total params: 23,587,712\n",
      "Trainable params: 0\n",
      "Non-trainable params: 23,587,712\n",
      "_________________________________________________________________\n"
     ]
    }
   ],
   "source": [
    "model=tensorflow.keras.Sequential([\n",
    "    model, \n",
    "    GlobalMaxPooling2D()\n",
    "])\n",
    "model.summary()"
   ]
  },
  {
   "cell_type": "code",
   "execution_count": null,
   "id": "canadian-direction",
   "metadata": {},
   "outputs": [],
   "source": []
  },
  {
   "cell_type": "code",
   "execution_count": 35,
   "id": "verified-importance",
   "metadata": {},
   "outputs": [],
   "source": [
    "import cv2\n",
    "import numpy as np\n",
    "from numpy.linalg import norm"
   ]
  },
  {
   "cell_type": "code",
   "execution_count": 17,
   "id": "mental-pollution",
   "metadata": {},
   "outputs": [],
   "source": [
    "img=cv2.imread(\"1636.jpg\")\n",
    "img=cv2.resize(img, (224,224))"
   ]
  },
  {
   "cell_type": "code",
   "execution_count": 18,
   "id": "precise-thirty",
   "metadata": {},
   "outputs": [],
   "source": [
    "img=np.array(img)"
   ]
  },
  {
   "cell_type": "code",
   "execution_count": 19,
   "id": "thousand-split",
   "metadata": {},
   "outputs": [
    {
     "data": {
      "text/plain": [
       "(224, 224, 3)"
      ]
     },
     "execution_count": 19,
     "metadata": {},
     "output_type": "execute_result"
    }
   ],
   "source": [
    "img.shape"
   ]
  },
  {
   "cell_type": "code",
   "execution_count": 20,
   "id": "wrapped-filename",
   "metadata": {},
   "outputs": [],
   "source": [
    "# (number_of_image, 224, 224, 3)\n",
    "expand_img=np.expand_dims(img, axis=0)"
   ]
  },
  {
   "cell_type": "code",
   "execution_count": 21,
   "id": "primary-latter",
   "metadata": {},
   "outputs": [
    {
     "data": {
      "text/plain": [
       "(1, 224, 224, 3)"
      ]
     },
     "execution_count": 21,
     "metadata": {},
     "output_type": "execute_result"
    }
   ],
   "source": [
    "expand_img.shape"
   ]
  },
  {
   "cell_type": "code",
   "execution_count": 25,
   "id": "prompt-kuwait",
   "metadata": {},
   "outputs": [],
   "source": [
    "pre_img=preprocess_input(expand_img)"
   ]
  },
  {
   "cell_type": "code",
   "execution_count": 27,
   "id": "material-edwards",
   "metadata": {},
   "outputs": [
    {
     "data": {
      "text/plain": [
       "(1, 224, 224, 3)"
      ]
     },
     "execution_count": 27,
     "metadata": {},
     "output_type": "execute_result"
    }
   ],
   "source": [
    "pre_img.shape"
   ]
  },
  {
   "cell_type": "code",
   "execution_count": 31,
   "id": "unlike-armenia",
   "metadata": {},
   "outputs": [],
   "source": [
    "result=model.predict(pre_img).flatten()"
   ]
  },
  {
   "cell_type": "code",
   "execution_count": 37,
   "id": "nutritional-marker",
   "metadata": {},
   "outputs": [],
   "source": [
    "normalized=result/norm(result)"
   ]
  },
  {
   "cell_type": "code",
   "execution_count": 38,
   "id": "applied-player",
   "metadata": {},
   "outputs": [
    {
     "data": {
      "text/plain": [
       "(2048,)"
      ]
     },
     "execution_count": 38,
     "metadata": {},
     "output_type": "execute_result"
    }
   ],
   "source": [
    "normalized.shape"
   ]
  },
  {
   "cell_type": "code",
   "execution_count": null,
   "id": "australian-parts",
   "metadata": {},
   "outputs": [],
   "source": []
  },
  {
   "cell_type": "code",
   "execution_count": 39,
   "id": "regulated-extraction",
   "metadata": {},
   "outputs": [],
   "source": [
    "def extract_feature(img_path, model):\n",
    "    img=cv2.imread(img_path)\n",
    "    img=cv2.resize(img, (224,224))\n",
    "    img=np.array(img)\n",
    "    expand_img=np.expand_dims(img, axis=0)\n",
    "    pre_img=preprocess_input(expand_img)\n",
    "    result=model.predict(pre_img).flatten()\n",
    "    normalized=result/norm(result)\n",
    "    return normalized"
   ]
  },
  {
   "cell_type": "code",
   "execution_count": 40,
   "id": "endless-bottom",
   "metadata": {},
   "outputs": [
    {
     "data": {
      "text/plain": [
       "array([0.00596654, 0.00037372, 0.00811542, ..., 0.0147143 , 0.01509577,\n",
       "       0.02696898], dtype=float32)"
      ]
     },
     "execution_count": 40,
     "metadata": {},
     "output_type": "execute_result"
    }
   ],
   "source": [
    "extract_feature(\"1636.jpg\",model)"
   ]
  },
  {
   "cell_type": "code",
   "execution_count": 46,
   "id": "lasting-enterprise",
   "metadata": {},
   "outputs": [],
   "source": [
    "import os\n",
    "from tqdm import tqdm"
   ]
  },
  {
   "cell_type": "code",
   "execution_count": 42,
   "id": "consolidated-explanation",
   "metadata": {},
   "outputs": [],
   "source": [
    "filename=[]\n",
    "feature_list=[]\n",
    "\n",
    "for file in os.listdir('Dataset'):\n",
    "    filename.append(os.path.join('Dataset',file))"
   ]
  },
  {
   "cell_type": "code",
   "execution_count": 44,
   "id": "studied-german",
   "metadata": {},
   "outputs": [
    {
     "data": {
      "text/plain": [
       "['Dataset\\\\10037.jpg',\n",
       " 'Dataset\\\\10039.jpg',\n",
       " 'Dataset\\\\10054.jpg',\n",
       " 'Dataset\\\\10096.jpg',\n",
       " 'Dataset\\\\10097.jpg']"
      ]
     },
     "execution_count": 44,
     "metadata": {},
     "output_type": "execute_result"
    }
   ],
   "source": [
    "filename[0:5]"
   ]
  },
  {
   "cell_type": "code",
   "execution_count": 47,
   "id": "organizational-halloween",
   "metadata": {},
   "outputs": [
    {
     "name": "stderr",
     "output_type": "stream",
     "text": [
      "100%|█████████████████████████████████████████████████████████████████████████████| 2906/2906 [14:08<00:00,  3.43it/s]\n"
     ]
    }
   ],
   "source": [
    "for file in tqdm(filename):\n",
    "    feature_list.append(extract_feature(file,model))"
   ]
  },
  {
   "cell_type": "code",
   "execution_count": 1,
   "id": "satellite-toronto",
   "metadata": {},
   "outputs": [
    {
     "ename": "NameError",
     "evalue": "name 'feature_list' is not defined",
     "output_type": "error",
     "traceback": [
      "\u001b[1;31m---------------------------------------------------------------------------\u001b[0m",
      "\u001b[1;31mNameError\u001b[0m                                 Traceback (most recent call last)",
      "Cell \u001b[1;32mIn[1], line 3\u001b[0m\n\u001b[0;32m      1\u001b[0m \u001b[38;5;28;01mimport\u001b[39;00m \u001b[38;5;21;01mpickle\u001b[39;00m\n\u001b[1;32m----> 3\u001b[0m pickle\u001b[38;5;241m.\u001b[39mdump(\u001b[43mfeature_list\u001b[49m,\u001b[38;5;28mopen\u001b[39m(\u001b[38;5;124m'\u001b[39m\u001b[38;5;124mfeaturevector.pkl\u001b[39m\u001b[38;5;124m'\u001b[39m,\u001b[38;5;124m'\u001b[39m\u001b[38;5;124mwb\u001b[39m\u001b[38;5;124m'\u001b[39m))\n\u001b[0;32m      4\u001b[0m pickle\u001b[38;5;241m.\u001b[39mdump(filename,\u001b[38;5;28mopen\u001b[39m(\u001b[38;5;124m'\u001b[39m\u001b[38;5;124mfilenames.pkl\u001b[39m\u001b[38;5;124m'\u001b[39m,\u001b[38;5;124m'\u001b[39m\u001b[38;5;124mwb\u001b[39m\u001b[38;5;124m'\u001b[39m))\n",
      "\u001b[1;31mNameError\u001b[0m: name 'feature_list' is not defined"
     ]
    }
   ],
   "source": [
    "import pickle\n",
    "\n",
    "pickle.dump(feature_list,open('featurevector.pkl','wb'))\n",
    "pickle.dump(filename,open('filenames.pkl','wb'))\n"
   ]
  },
  {
   "cell_type": "code",
   "execution_count": null,
   "id": "outer-subdivision",
   "metadata": {},
   "outputs": [],
   "source": []
  }
 ],
 "metadata": {
  "kernelspec": {
   "display_name": "Python 3",
   "language": "python",
   "name": "python3"
  },
  "language_info": {
   "codemirror_mode": {
    "name": "ipython",
    "version": 3
   },
   "file_extension": ".py",
   "mimetype": "text/x-python",
   "name": "python",
   "nbconvert_exporter": "python",
   "pygments_lexer": "ipython3",
   "version": "3.11.4"
  }
 },
 "nbformat": 4,
 "nbformat_minor": 5
}
